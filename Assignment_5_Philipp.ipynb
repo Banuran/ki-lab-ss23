{
 "cells": [
  {
   "cell_type": "code",
   "execution_count": 1,
   "metadata": {},
   "outputs": [],
   "source": [
    "import pandas as pd\n",
    "import spacy\n",
    "import time"
   ]
  },
  {
   "cell_type": "code",
   "execution_count": 2,
   "metadata": {},
   "outputs": [
    {
     "data": {
      "text/plain": [
       "<torch._C.Generator at 0x153516c7c10>"
      ]
     },
     "execution_count": 2,
     "metadata": {},
     "output_type": "execute_result"
    }
   ],
   "source": [
    "import torch\n",
    "import torch.nn as nn\n",
    "import torch.nn.functional as F\n",
    "import torch.optim as optim\n",
    "\n",
    "torch.manual_seed(1984)"
   ]
  },
  {
   "cell_type": "code",
   "execution_count": 3,
   "metadata": {},
   "outputs": [
    {
     "name": "stdout",
     "output_type": "stream",
     "text": [
      "cuda:0\n"
     ]
    }
   ],
   "source": [
    "device = torch.device('cuda:0' if torch.cuda.is_available() else 'cpu')\n",
    "\n",
    "# Assuming that we are on a CUDA machine, this should print a CUDA device:\n",
    "print(device)"
   ]
  },
  {
   "cell_type": "code",
   "execution_count": 4,
   "metadata": {},
   "outputs": [],
   "source": [
    "EMBEDDING_DIM = 128\n",
    "HIDDEN_DIM = 256\n",
    "VOCAB_LIMIT = 5000"
   ]
  },
  {
   "cell_type": "code",
   "execution_count": 5,
   "metadata": {},
   "outputs": [
    {
     "name": "stderr",
     "output_type": "stream",
     "text": [
      "C:\\Users\\phili\\AppData\\Local\\Temp\\ipykernel_26248\\3960450728.py:3: ParserWarning: Falling back to the 'python' engine because the separator encoded in utf-8 is > 1 char long, and the 'c' engine does not support such separators; you can avoid this warning by specifying engine='python'.\n",
      "  df_train_text = pd.read_csv('./data/tweetval_emotion/train_text.txt', header=None, delimiter='§', names=['text'])\n",
      "C:\\Users\\phili\\AppData\\Local\\Temp\\ipykernel_26248\\3960450728.py:7: ParserWarning: Falling back to the 'python' engine because the separator encoded in utf-8 is > 1 char long, and the 'c' engine does not support such separators; you can avoid this warning by specifying engine='python'.\n",
      "  df_test_text = pd.read_csv(dataset_dir+'test_text.txt', header=None, delimiter='§', names=['text'])\n"
     ]
    }
   ],
   "source": [
    "dataset_dir = './data/tweetval_emotion/'\n",
    "\n",
    "df_train_text = pd.read_csv('./data/tweetval_emotion/train_text.txt', header=None, delimiter='§', names=['text'])\n",
    "df_train_labels = pd.read_csv(dataset_dir+'train_labels.txt', header=None, names=['label'])\n",
    "df_train = df_train_text.join(df_train_labels)\n",
    "\n",
    "df_test_text = pd.read_csv(dataset_dir+'test_text.txt', header=None, delimiter='§', names=['text'])\n",
    "df_test_labels = pd.read_csv(dataset_dir+'test_labels.txt', header=None, names=['label'])\n",
    "df_test = df_test_text.join(df_test_labels)\n",
    "\n",
    "df_labels = pd.read_csv(dataset_dir+'mapping.txt', header=None, delimiter='\\t')"
   ]
  },
  {
   "cell_type": "markdown",
   "metadata": {},
   "source": [
    "# Tokenize Tweets"
   ]
  },
  {
   "cell_type": "code",
   "execution_count": 6,
   "metadata": {},
   "outputs": [],
   "source": [
    "#spacy.prefer_gpu()\n",
    "spacy.require_cpu()\n",
    "\n",
    "nlp = spacy.load(\"en_core_web_sm\")\n",
    "\n",
    "tokenized_words = {}\n",
    "\n",
    "for _, row in df_train.iterrows():\n",
    "    doc = nlp(row['text'])\n",
    "    for token in doc:\n",
    "        if token.text.lower() not in tokenized_words:\n",
    "            tokenized_words[token.text.lower()] = 1\n",
    "        else:\n",
    "            tokenized_words[token.text.lower()] += 1\n",
    "        \n",
    "\n",
    "df_tokens = pd.DataFrame(tokenized_words.items(), columns=[\"Word\", \"Count\"])"
   ]
  },
  {
   "cell_type": "code",
   "execution_count": 7,
   "metadata": {},
   "outputs": [
    {
     "data": {
      "text/html": [
       "<div>\n",
       "<style scoped>\n",
       "    .dataframe tbody tr th:only-of-type {\n",
       "        vertical-align: middle;\n",
       "    }\n",
       "\n",
       "    .dataframe tbody tr th {\n",
       "        vertical-align: top;\n",
       "    }\n",
       "\n",
       "    .dataframe thead th {\n",
       "        text-align: right;\n",
       "    }\n",
       "</style>\n",
       "<table border=\"1\" class=\"dataframe\">\n",
       "  <thead>\n",
       "    <tr style=\"text-align: right;\">\n",
       "      <th></th>\n",
       "      <th>Word</th>\n",
       "      <th>Count</th>\n",
       "    </tr>\n",
       "  </thead>\n",
       "  <tbody>\n",
       "    <tr>\n",
       "      <th>0</th>\n",
       "      <td>#</td>\n",
       "      <td>3239</td>\n",
       "    </tr>\n",
       "    <tr>\n",
       "      <th>1</th>\n",
       "      <td>@user</td>\n",
       "      <td>2019</td>\n",
       "    </tr>\n",
       "    <tr>\n",
       "      <th>2</th>\n",
       "      <td>.</td>\n",
       "      <td>1908</td>\n",
       "    </tr>\n",
       "    <tr>\n",
       "      <th>3</th>\n",
       "      <td>i</td>\n",
       "      <td>1578</td>\n",
       "    </tr>\n",
       "    <tr>\n",
       "      <th>4</th>\n",
       "      <td>the</td>\n",
       "      <td>1514</td>\n",
       "    </tr>\n",
       "    <tr>\n",
       "      <th>...</th>\n",
       "      <td>...</td>\n",
       "      <td>...</td>\n",
       "    </tr>\n",
       "    <tr>\n",
       "      <th>4995</th>\n",
       "      <td>hated</td>\n",
       "      <td>1</td>\n",
       "    </tr>\n",
       "    <tr>\n",
       "      <th>4996</th>\n",
       "      <td>burden</td>\n",
       "      <td>1</td>\n",
       "    </tr>\n",
       "    <tr>\n",
       "      <th>4997</th>\n",
       "      <td>spinning</td>\n",
       "      <td>1</td>\n",
       "    </tr>\n",
       "    <tr>\n",
       "      <th>4998</th>\n",
       "      <td>porridge</td>\n",
       "      <td>1</td>\n",
       "    </tr>\n",
       "    <tr>\n",
       "      <th>4999</th>\n",
       "      <td>digesting</td>\n",
       "      <td>1</td>\n",
       "    </tr>\n",
       "  </tbody>\n",
       "</table>\n",
       "<p>5000 rows × 2 columns</p>\n",
       "</div>"
      ],
      "text/plain": [
       "           Word  Count\n",
       "0             #   3239\n",
       "1         @user   2019\n",
       "2             .   1908\n",
       "3             i   1578\n",
       "4           the   1514\n",
       "...         ...    ...\n",
       "4995      hated      1\n",
       "4996     burden      1\n",
       "4997   spinning      1\n",
       "4998   porridge      1\n",
       "4999  digesting      1\n",
       "\n",
       "[5000 rows x 2 columns]"
      ]
     },
     "execution_count": 7,
     "metadata": {},
     "output_type": "execute_result"
    }
   ],
   "source": [
    "df_tokens = df_tokens.sort_values(by=['Count'], ascending=False).reset_index(drop=True)\n",
    "df_tokens = df_tokens.head(VOCAB_LIMIT)\n",
    "df_tokens"
   ]
  },
  {
   "cell_type": "code",
   "execution_count": 8,
   "metadata": {},
   "outputs": [],
   "source": [
    "def prepare_sequence(seq):\n",
    "    idxs = []\n",
    "    doc = nlp(seq)\n",
    "    for token in doc:\n",
    "        if token.text.lower() in df_tokens['Word'].values:\n",
    "            idxs.append(df_tokens.index[df_tokens['Word'] == token.text.lower()][0])\n",
    "        else:\n",
    "            idxs.append(VOCAB_LIMIT)\n",
    "    return torch.tensor(idxs, dtype=torch.long)"
   ]
  },
  {
   "cell_type": "markdown",
   "metadata": {},
   "source": [
    "# Train and Test"
   ]
  },
  {
   "cell_type": "code",
   "execution_count": 9,
   "metadata": {},
   "outputs": [],
   "source": [
    "def train(model, loss_function, optimizer, epochs=10):\n",
    "    time_start = time.time()\n",
    "    model = model.to(device)\n",
    "\n",
    "    for epoch in range(epochs):  # again, normally you would NOT do 300 epochs, it is toy data\n",
    "        for _, row in df_train.iterrows():\n",
    "            sentence = row[\"text\"]\n",
    "            tag = row[\"label\"]\n",
    "            # Step 1. Remember that Pytorch accumulates gradients.\n",
    "            # We need to clear them out before each instance\n",
    "            model.zero_grad()\n",
    "\n",
    "            # Step 2. Get our inputs ready for the network, that is, turn them into\n",
    "            # Tensors of word indices.\n",
    "            sentence_in = prepare_sequence(sentence).to(device)\n",
    "            target = torch.tensor([tag], dtype=torch.long).to(device)\n",
    "            \n",
    "            # Step 3. Run our forward pass.\n",
    "            tag_scores = model(sentence_in)\n",
    "\n",
    "            # Step 4. Compute the loss, gradients, and update the parameters by\n",
    "            #  calling optimizer.step()\n",
    "            loss = loss_function(tag_scores[-1], target[-1])\n",
    "            loss.backward()\n",
    "            optimizer.step()\n",
    "\n",
    "        print(f'Epoch: {epoch}\\tLoss: {loss}')\n",
    "\n",
    "    time_elapsed = time.time() - time_start\n",
    "    return model, time_elapsed"
   ]
  },
  {
   "cell_type": "code",
   "execution_count": 10,
   "metadata": {},
   "outputs": [],
   "source": [
    "def test(model):\n",
    "    correct = 0\n",
    "    total = 0\n",
    "\n",
    "    model = model.to(device)\n",
    "    # since we're not training, we don't need to calculate the gradients for our outputs\n",
    "    with torch.no_grad():\n",
    "        for _, row in df_test.iterrows():\n",
    "            sentence = row[\"text\"]\n",
    "            tag = row[\"label\"]\n",
    "\n",
    "            sentence_in = prepare_sequence(sentence).to(device)\n",
    "        \n",
    "            tag_scores = model(sentence_in)\n",
    "                \n",
    "            # the class with the highest energy is what we choose as prediction\n",
    "            _, predicted = torch.max(tag_scores.data, 1)\n",
    "            \n",
    "            if predicted[-1] == tag:\n",
    "                correct += 1            \n",
    "            \n",
    "            total += 1\n",
    "    \n",
    "    print(f'Accuracy of the network on the test data: {100 * correct // total} %')"
   ]
  },
  {
   "cell_type": "markdown",
   "metadata": {},
   "source": [
    "# LSTM Tagger"
   ]
  },
  {
   "cell_type": "code",
   "execution_count": 11,
   "metadata": {},
   "outputs": [],
   "source": [
    "class LSTMTagger(nn.Module):\n",
    "\n",
    "    def __init__(self, embedding_dim, hidden_dim, vocab_size, tagset_size):\n",
    "        super(LSTMTagger, self).__init__()\n",
    "        self.hidden_dim = hidden_dim\n",
    "\n",
    "        self.word_embeddings = nn.Embedding(vocab_size, embedding_dim)\n",
    "\n",
    "        # The LSTM takes word embeddings as inputs, and outputs hidden states\n",
    "        # with dimensionality hidden_dim.\n",
    "        self.lstm = nn.LSTM(embedding_dim, hidden_dim)\n",
    "\n",
    "        # The linear layer that maps from hidden state space to tag space\n",
    "        self.hidden2tag = nn.Linear(hidden_dim, tagset_size)\n",
    "\n",
    "    def forward(self, sentence):\n",
    "        embeds = self.word_embeddings(sentence)\n",
    "        lstm_out, _ = self.lstm(embeds.view(len(sentence), 1, -1))\n",
    "        tag_space = self.hidden2tag(lstm_out.view(len(sentence), -1))\n",
    "        tag_scores = F.log_softmax(tag_space, dim=1)\n",
    "        return tag_scores"
   ]
  },
  {
   "cell_type": "code",
   "execution_count": 12,
   "metadata": {},
   "outputs": [
    {
     "name": "stderr",
     "output_type": "stream",
     "text": [
      "To use data.metrics please install scikit-learn. See https://scikit-learn.org/stable/index.html\n"
     ]
    },
    {
     "name": "stdout",
     "output_type": "stream",
     "text": [
      "Epoch: 0\tLoss: 0.8460325598716736\n",
      "Epoch: 1\tLoss: 0.5453154444694519\n",
      "Epoch: 2\tLoss: 0.10229708254337311\n",
      "Epoch: 3\tLoss: 0.04478735849261284\n",
      "Epoch: 4\tLoss: 0.07790172845125198\n",
      "Epoch: 5\tLoss: 0.0005368936690501869\n",
      "Epoch: 6\tLoss: 6.23445157543756e-05\n",
      "Epoch: 7\tLoss: 0.0011539950501173735\n",
      "Epoch: 8\tLoss: 0.00014006110723130405\n",
      "Epoch: 9\tLoss: 8.141662692651153e-05\n",
      "\n",
      "Time needed for training: 1069.9049994945526\n"
     ]
    }
   ],
   "source": [
    "model_lstm = LSTMTagger(EMBEDDING_DIM, HIDDEN_DIM, VOCAB_LIMIT+1, df_labels.shape[0])\n",
    "loss_function = nn.NLLLoss()\n",
    "optimizer = optim.SGD(model_lstm.parameters(), lr=0.1)\n",
    "\n",
    "model_lstm, lstm_time = train(model_lstm, loss_function, optimizer)\n",
    "\n",
    "print(f'\\nTime needed for training: {lstm_time}')"
   ]
  },
  {
   "cell_type": "code",
   "execution_count": 13,
   "metadata": {},
   "outputs": [
    {
     "name": "stdout",
     "output_type": "stream",
     "text": [
      "Accuracy of the network on the test data: 53 %\n"
     ]
    }
   ],
   "source": [
    "test(model_lstm)"
   ]
  },
  {
   "cell_type": "markdown",
   "metadata": {},
   "source": [
    "# GRU Tagger"
   ]
  },
  {
   "cell_type": "code",
   "execution_count": 14,
   "metadata": {},
   "outputs": [],
   "source": [
    "class GRUTagger(nn.Module):\n",
    "\n",
    "    def __init__(self, embedding_dim, hidden_dim, vocab_size, tagset_size):\n",
    "        super(GRUTagger, self).__init__()\n",
    "        self.hidden_dim = hidden_dim\n",
    "\n",
    "        self.word_embeddings = nn.Embedding(vocab_size, embedding_dim)\n",
    "\n",
    "        # The LSTM takes word embeddings as inputs, and outputs hidden states\n",
    "        # with dimensionality hidden_dim.\n",
    "        self.gru = nn.GRU(embedding_dim, hidden_dim)\n",
    "\n",
    "        # The linear layer that maps from hidden state space to tag space\n",
    "        self.hidden2tag = nn.Linear(hidden_dim, tagset_size)\n",
    "\n",
    "    def forward(self, sentence):\n",
    "        embeds = self.word_embeddings(sentence)\n",
    "        lstm_out, _ = self.gru(embeds.view(len(sentence), 1, -1))\n",
    "        tag_space = self.hidden2tag(lstm_out.view(len(sentence), -1))\n",
    "        tag_scores = F.log_softmax(tag_space, dim=1)\n",
    "        return tag_scores"
   ]
  },
  {
   "cell_type": "code",
   "execution_count": 15,
   "metadata": {},
   "outputs": [
    {
     "name": "stdout",
     "output_type": "stream",
     "text": [
      "Epoch: 0\tLoss: 1.1119444370269775\n",
      "Epoch: 1\tLoss: 0.9962902665138245\n",
      "Epoch: 2\tLoss: 0.023863712325692177\n",
      "Epoch: 3\tLoss: 0.1947767734527588\n",
      "Epoch: 4\tLoss: 0.0014156806282699108\n",
      "Epoch: 5\tLoss: 3.620680570602417\n",
      "Epoch: 6\tLoss: -0.0\n",
      "Epoch: 7\tLoss: -0.0\n",
      "Epoch: 8\tLoss: -0.0\n",
      "Epoch: 9\tLoss: -0.0\n",
      "\n",
      "Time needed for training: 1086.3864908218384\n"
     ]
    }
   ],
   "source": [
    "model_gru = LSTMTagger(EMBEDDING_DIM, HIDDEN_DIM, VOCAB_LIMIT+1, df_labels.shape[0])\n",
    "loss_function = nn.NLLLoss()\n",
    "optimizer = optim.SGD(model_gru.parameters(), lr=0.1)\n",
    "\n",
    "model_gru, gru_time = train(model_gru, loss_function, optimizer)\n",
    "\n",
    "print(f'\\nTime needed for training: {gru_time}')"
   ]
  },
  {
   "cell_type": "code",
   "execution_count": 16,
   "metadata": {},
   "outputs": [
    {
     "name": "stdout",
     "output_type": "stream",
     "text": [
      "Accuracy of the network on the test data: 53 %\n"
     ]
    }
   ],
   "source": [
    "test(model_gru)"
   ]
  },
  {
   "cell_type": "code",
   "execution_count": null,
   "metadata": {},
   "outputs": [],
   "source": []
  }
 ],
 "metadata": {
  "kernelspec": {
   "display_name": "Python 3",
   "language": "python",
   "name": "python3"
  },
  "language_info": {
   "codemirror_mode": {
    "name": "ipython",
    "version": 3
   },
   "file_extension": ".py",
   "mimetype": "text/x-python",
   "name": "python",
   "nbconvert_exporter": "python",
   "pygments_lexer": "ipython3",
   "version": "3.12.3"
  }
 },
 "nbformat": 4,
 "nbformat_minor": 2
}
