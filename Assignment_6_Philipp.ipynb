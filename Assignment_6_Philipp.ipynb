{
 "cells": [
  {
   "cell_type": "code",
   "execution_count": 1,
   "metadata": {},
   "outputs": [],
   "source": [
    "import pandas as pd\n",
    "import numpy as np\n",
    "import time\n",
    "from datasets import Dataset"
   ]
  },
  {
   "cell_type": "code",
   "execution_count": 2,
   "metadata": {},
   "outputs": [
    {
     "data": {
      "text/plain": [
       "<torch._C.Generator at 0x2271c4c4ef0>"
      ]
     },
     "execution_count": 2,
     "metadata": {},
     "output_type": "execute_result"
    }
   ],
   "source": [
    "import torch\n",
    "import torch.nn as nn\n",
    "import torch.nn.functional as F\n",
    "import torch.optim as optim\n",
    "\n",
    "torch.manual_seed(1984)"
   ]
  },
  {
   "cell_type": "code",
   "execution_count": 3,
   "metadata": {},
   "outputs": [
    {
     "name": "stdout",
     "output_type": "stream",
     "text": [
      "cuda:0\n"
     ]
    }
   ],
   "source": [
    "device = torch.device('cuda:0' if torch.cuda.is_available() else 'cpu')\n",
    "\n",
    "# Assuming that we are on a CUDA machine, this should print a CUDA device:\n",
    "print(device)"
   ]
  },
  {
   "cell_type": "markdown",
   "metadata": {},
   "source": [
    "# Load Dataset"
   ]
  },
  {
   "cell_type": "code",
   "execution_count": 4,
   "metadata": {},
   "outputs": [
    {
     "name": "stderr",
     "output_type": "stream",
     "text": [
      "C:\\Users\\phili\\AppData\\Local\\Temp\\ipykernel_17176\\175595815.py:3: ParserWarning: Falling back to the 'python' engine because the separator encoded in utf-8 is > 1 char long, and the 'c' engine does not support such separators; you can avoid this warning by specifying engine='python'.\n",
      "  df_train_text = pd.read_csv('./data/tweetval_emotion/train_text.txt', header=None, delimiter='§', names=['text'])\n",
      "C:\\Users\\phili\\AppData\\Local\\Temp\\ipykernel_17176\\175595815.py:7: ParserWarning: Falling back to the 'python' engine because the separator encoded in utf-8 is > 1 char long, and the 'c' engine does not support such separators; you can avoid this warning by specifying engine='python'.\n",
      "  df_val_text = pd.read_csv(dataset_dir+'val_text.txt', header=None, delimiter='§', names=['text'])\n",
      "C:\\Users\\phili\\AppData\\Local\\Temp\\ipykernel_17176\\175595815.py:11: ParserWarning: Falling back to the 'python' engine because the separator encoded in utf-8 is > 1 char long, and the 'c' engine does not support such separators; you can avoid this warning by specifying engine='python'.\n",
      "  df_test_text = pd.read_csv(dataset_dir+'test_text.txt', header=None, delimiter='§', names=['text'])\n"
     ]
    }
   ],
   "source": [
    "dataset_dir = './data/tweetval_emotion/'\n",
    "\n",
    "df_train_text = pd.read_csv('./data/tweetval_emotion/train_text.txt', header=None, delimiter='§', names=['text'])\n",
    "df_train_labels = pd.read_csv(dataset_dir+'train_labels.txt', header=None, names=['label'])\n",
    "df_train = df_train_text.join(df_train_labels)\n",
    "\n",
    "df_val_text = pd.read_csv(dataset_dir+'val_text.txt', header=None, delimiter='§', names=['text'])\n",
    "df_val_labels = pd.read_csv(dataset_dir+'val_labels.txt', header=None, names=['label'])\n",
    "df_val = df_val_text.join(df_val_labels)\n",
    "\n",
    "df_test_text = pd.read_csv(dataset_dir+'test_text.txt', header=None, delimiter='§', names=['text'])\n",
    "df_test_labels = pd.read_csv(dataset_dir+'test_labels.txt', header=None, names=['label'])\n",
    "df_test = df_test_text.join(df_test_labels)\n",
    "\n",
    "df_labels = pd.read_csv(dataset_dir+'mapping.txt', header=None, delimiter='\\t')"
   ]
  },
  {
   "cell_type": "code",
   "execution_count": 5,
   "metadata": {},
   "outputs": [],
   "source": [
    "tweetval_train = Dataset.from_pandas(df_train)\n",
    "tweetval_val = Dataset.from_pandas(df_val)"
   ]
  },
  {
   "cell_type": "code",
   "execution_count": 6,
   "metadata": {},
   "outputs": [
    {
     "data": {
      "text/plain": [
       "{'text': \"“Worry is a down payment on a problem you may never have'. \\xa0Joyce Meyer.  #motivation #leadership #worry \",\n",
       " 'label': 2}"
      ]
     },
     "execution_count": 6,
     "metadata": {},
     "output_type": "execute_result"
    }
   ],
   "source": [
    "tweetval_train[0]"
   ]
  },
  {
   "cell_type": "markdown",
   "metadata": {},
   "source": [
    "# Preprocess"
   ]
  },
  {
   "cell_type": "code",
   "execution_count": 7,
   "metadata": {},
   "outputs": [],
   "source": [
    "from transformers import AutoTokenizer\n",
    "tokenizer = AutoTokenizer.from_pretrained(\"distilbert/distilbert-base-uncased\")"
   ]
  },
  {
   "cell_type": "code",
   "execution_count": 8,
   "metadata": {},
   "outputs": [],
   "source": [
    "def preprocess_function(examples):\n",
    "    return tokenizer(examples[\"text\"], truncation=True)"
   ]
  },
  {
   "cell_type": "code",
   "execution_count": 9,
   "metadata": {},
   "outputs": [
    {
     "data": {
      "application/vnd.jupyter.widget-view+json": {
       "model_id": "bb2f54e7c81b4c3bbe8340552ef50376",
       "version_major": 2,
       "version_minor": 0
      },
      "text/plain": [
       "Map:   0%|          | 0/3257 [00:00<?, ? examples/s]"
      ]
     },
     "metadata": {},
     "output_type": "display_data"
    },
    {
     "name": "stderr",
     "output_type": "stream",
     "text": [
      "Asking to truncate to max_length but no maximum length is provided and the model has no predefined maximum length. Default to no truncation.\n"
     ]
    },
    {
     "data": {
      "application/vnd.jupyter.widget-view+json": {
       "model_id": "d3261ad4f0d946fd86636f58bbabde35",
       "version_major": 2,
       "version_minor": 0
      },
      "text/plain": [
       "Map:   0%|          | 0/374 [00:00<?, ? examples/s]"
      ]
     },
     "metadata": {},
     "output_type": "display_data"
    }
   ],
   "source": [
    "tokenized_tweetval_train = tweetval_train.map(preprocess_function, batched=True)\n",
    "tokenized_tweetval_val = tweetval_val.map(preprocess_function, batched=True)"
   ]
  },
  {
   "cell_type": "code",
   "execution_count": 10,
   "metadata": {},
   "outputs": [],
   "source": [
    "from transformers import DataCollatorWithPadding\n",
    "data_collator = DataCollatorWithPadding(tokenizer=tokenizer)"
   ]
  },
  {
   "cell_type": "markdown",
   "metadata": {},
   "source": [
    "# Evaluate"
   ]
  },
  {
   "cell_type": "code",
   "execution_count": 11,
   "metadata": {},
   "outputs": [],
   "source": [
    "import evaluate\n",
    "accuracy = evaluate.load(\"accuracy\")"
   ]
  },
  {
   "cell_type": "code",
   "execution_count": 12,
   "metadata": {},
   "outputs": [],
   "source": [
    "def compute_metrics(eval_pred):\n",
    "    predictions, labels = eval_pred\n",
    "    predictions = np.argmax(predictions, axis=1)\n",
    "    return accuracy.compute(predictions=predictions, references=labels)"
   ]
  },
  {
   "cell_type": "markdown",
   "metadata": {},
   "source": [
    "# Train"
   ]
  },
  {
   "cell_type": "code",
   "execution_count": 13,
   "metadata": {},
   "outputs": [
    {
     "name": "stdout",
     "output_type": "stream",
     "text": [
      "id2label: {0: 'anger', 1: 'joy', 2: 'optimism', 3: 'sadness'}\n",
      "label2id: {'anger': 0, 'joy': 1, 'optimism': 2, 'sadness': 3}\n"
     ]
    }
   ],
   "source": [
    "id_label_dict = dict(zip(df_labels[0], df_labels[1]))\n",
    "\n",
    "id2label = {k: v for k, v in id_label_dict.items()}\n",
    "label2id = {v: k for k, v in id_label_dict.items()}\n",
    "\n",
    "print(\"id2label:\", id2label)\n",
    "print(\"label2id:\", label2id)"
   ]
  },
  {
   "cell_type": "code",
   "execution_count": 14,
   "metadata": {},
   "outputs": [
    {
     "name": "stderr",
     "output_type": "stream",
     "text": [
      "Some weights of DistilBertForSequenceClassification were not initialized from the model checkpoint at distilbert/distilbert-base-uncased and are newly initialized: ['classifier.bias', 'classifier.weight', 'pre_classifier.bias', 'pre_classifier.weight']\n",
      "You should probably TRAIN this model on a down-stream task to be able to use it for predictions and inference.\n"
     ]
    }
   ],
   "source": [
    "from transformers import AutoModelForSequenceClassification, TrainingArguments, Trainer\n",
    "\n",
    "model = AutoModelForSequenceClassification.from_pretrained(\n",
    "    \"distilbert/distilbert-base-uncased\", num_labels=df_labels.shape[0], id2label=id2label, label2id=label2id\n",
    ")"
   ]
  },
  {
   "cell_type": "code",
   "execution_count": 15,
   "metadata": {},
   "outputs": [],
   "source": [
    "training_args = TrainingArguments(\n",
    "    output_dir=\"./checkpoints/koph/bert/\",\n",
    "    overwrite_output_dir=True,\n",
    "    learning_rate=2e-5,\n",
    "    per_device_train_batch_size=16,\n",
    "    per_device_eval_batch_size=16,\n",
    "    num_train_epochs=6,\n",
    "    weight_decay=0.01,\n",
    "    evaluation_strategy=\"epoch\",\n",
    "    save_strategy=\"epoch\",\n",
    "    load_best_model_at_end=True,\n",
    "    push_to_hub=False,\n",
    ")\n",
    "\n",
    "trainer = Trainer(\n",
    "    model=model,\n",
    "    args=training_args,\n",
    "    train_dataset=tokenized_tweetval_train,\n",
    "    eval_dataset=tokenized_tweetval_val,\n",
    "    tokenizer=tokenizer,\n",
    "    data_collator=data_collator,\n",
    "    compute_metrics=compute_metrics,\n",
    ")"
   ]
  },
  {
   "cell_type": "code",
   "execution_count": 16,
   "metadata": {},
   "outputs": [
    {
     "data": {
      "application/vnd.jupyter.widget-view+json": {
       "model_id": "fe7058403ebe4bfc8052a21a51ca2952",
       "version_major": 2,
       "version_minor": 0
      },
      "text/plain": [
       "  0%|          | 0/1224 [00:00<?, ?it/s]"
      ]
     },
     "metadata": {},
     "output_type": "display_data"
    },
    {
     "data": {
      "application/vnd.jupyter.widget-view+json": {
       "model_id": "13ac6a261da446c8afad67bbd14e0d65",
       "version_major": 2,
       "version_minor": 0
      },
      "text/plain": [
       "  0%|          | 0/24 [00:00<?, ?it/s]"
      ]
     },
     "metadata": {},
     "output_type": "display_data"
    },
    {
     "name": "stdout",
     "output_type": "stream",
     "text": [
      "{'eval_loss': 0.6488389372825623, 'eval_accuracy': 0.7700534759358288, 'eval_runtime': 2.9621, 'eval_samples_per_second': 126.261, 'eval_steps_per_second': 8.102, 'epoch': 1.0}\n"
     ]
    },
    {
     "data": {
      "application/vnd.jupyter.widget-view+json": {
       "model_id": "1657f19eabb94cc7befcc003edee5cdf",
       "version_major": 2,
       "version_minor": 0
      },
      "text/plain": [
       "  0%|          | 0/24 [00:00<?, ?it/s]"
      ]
     },
     "metadata": {},
     "output_type": "display_data"
    },
    {
     "name": "stdout",
     "output_type": "stream",
     "text": [
      "{'eval_loss': 0.6075677871704102, 'eval_accuracy': 0.7780748663101604, 'eval_runtime': 5.7564, 'eval_samples_per_second': 64.971, 'eval_steps_per_second': 4.169, 'epoch': 2.0}\n",
      "{'loss': 0.6442, 'grad_norm': 2.8408310413360596, 'learning_rate': 1.1830065359477125e-05, 'epoch': 2.45}\n"
     ]
    },
    {
     "data": {
      "application/vnd.jupyter.widget-view+json": {
       "model_id": "778d21fa0c4e47f7a5bf163fe4e8abd8",
       "version_major": 2,
       "version_minor": 0
      },
      "text/plain": [
       "  0%|          | 0/24 [00:00<?, ?it/s]"
      ]
     },
     "metadata": {},
     "output_type": "display_data"
    },
    {
     "name": "stdout",
     "output_type": "stream",
     "text": [
      "{'eval_loss': 0.6906181573867798, 'eval_accuracy': 0.786096256684492, 'eval_runtime': 3.4063, 'eval_samples_per_second': 109.798, 'eval_steps_per_second': 7.046, 'epoch': 3.0}\n"
     ]
    },
    {
     "data": {
      "application/vnd.jupyter.widget-view+json": {
       "model_id": "ff52fd057b2d4ac3aafd5aae31413dd2",
       "version_major": 2,
       "version_minor": 0
      },
      "text/plain": [
       "  0%|          | 0/24 [00:00<?, ?it/s]"
      ]
     },
     "metadata": {},
     "output_type": "display_data"
    },
    {
     "name": "stdout",
     "output_type": "stream",
     "text": [
      "{'eval_loss': 0.720759928226471, 'eval_accuracy': 0.7914438502673797, 'eval_runtime': 3.5932, 'eval_samples_per_second': 104.086, 'eval_steps_per_second': 6.679, 'epoch': 4.0}\n",
      "{'loss': 0.2096, 'grad_norm': 2.1767771244049072, 'learning_rate': 3.6601307189542484e-06, 'epoch': 4.9}\n"
     ]
    },
    {
     "data": {
      "application/vnd.jupyter.widget-view+json": {
       "model_id": "2620d2ef5edc4470a5d18290b9e67427",
       "version_major": 2,
       "version_minor": 0
      },
      "text/plain": [
       "  0%|          | 0/24 [00:00<?, ?it/s]"
      ]
     },
     "metadata": {},
     "output_type": "display_data"
    },
    {
     "name": "stdout",
     "output_type": "stream",
     "text": [
      "{'eval_loss': 0.7509058117866516, 'eval_accuracy': 0.7994652406417112, 'eval_runtime': 3.4977, 'eval_samples_per_second': 106.926, 'eval_steps_per_second': 6.862, 'epoch': 5.0}\n"
     ]
    },
    {
     "data": {
      "application/vnd.jupyter.widget-view+json": {
       "model_id": "7566b1d1fb73422cbe81b55588d4f9ff",
       "version_major": 2,
       "version_minor": 0
      },
      "text/plain": [
       "  0%|          | 0/24 [00:00<?, ?it/s]"
      ]
     },
     "metadata": {},
     "output_type": "display_data"
    },
    {
     "name": "stdout",
     "output_type": "stream",
     "text": [
      "{'eval_loss': 0.791144847869873, 'eval_accuracy': 0.7941176470588235, 'eval_runtime': 3.2777, 'eval_samples_per_second': 114.104, 'eval_steps_per_second': 7.322, 'epoch': 6.0}\n",
      "{'train_runtime': 691.8917, 'train_samples_per_second': 28.244, 'train_steps_per_second': 1.769, 'train_loss': 0.3701666398765215, 'epoch': 6.0}\n"
     ]
    }
   ],
   "source": [
    "start_time = time.time()\n",
    "trainer.train()\n",
    "end_time = time.time()"
   ]
  },
  {
   "cell_type": "code",
   "execution_count": 17,
   "metadata": {},
   "outputs": [
    {
     "name": "stdout",
     "output_type": "stream",
     "text": [
      "Training Time Distilbert: 692.2532165050507\n"
     ]
    }
   ],
   "source": [
    "print(f\"Training Time Distilbert: {end_time-start_time}\")"
   ]
  },
  {
   "cell_type": "markdown",
   "metadata": {},
   "source": [
    "# Inference"
   ]
  },
  {
   "cell_type": "code",
   "execution_count": 18,
   "metadata": {},
   "outputs": [],
   "source": [
    "def test(model, tokenizer):\n",
    "    correct = 0\n",
    "    total = 0\n",
    "    \n",
    "    model.to(device)\n",
    "    with torch.no_grad():\n",
    "        for _, row in df_test.iterrows():\n",
    "            sentence = row[\"text\"]\n",
    "            tag = row[\"label\"]\n",
    "\n",
    "            inputs = tokenizer(sentence, return_tensors=\"pt\").to(device)\n",
    "            pred_score = model(**inputs).logits\n",
    "            predicted_class_id = pred_score.argmax().item()\n",
    "\n",
    "            if predicted_class_id == tag:\n",
    "                correct += 1            \n",
    "            total += 1\n",
    "    \n",
    "    print(f'Accuracy of the network on the test data: {100 * correct // total} %')"
   ]
  },
  {
   "cell_type": "code",
   "execution_count": 22,
   "metadata": {},
   "outputs": [
    {
     "name": "stdout",
     "output_type": "stream",
     "text": [
      "Accuracy of the network on the test data: 80 %\n"
     ]
    }
   ],
   "source": [
    "checkpoint_path = \"./checkpoints/koph/bert/checkpoint-1224\"\n",
    "\n",
    "tokenizer = AutoTokenizer.from_pretrained(checkpoint_path)\n",
    "model = AutoModelForSequenceClassification.from_pretrained(checkpoint_path)\n",
    "\n",
    "test(model, tokenizer)"
   ]
  },
  {
   "cell_type": "code",
   "execution_count": null,
   "metadata": {},
   "outputs": [],
   "source": []
  }
 ],
 "metadata": {
  "kernelspec": {
   "display_name": "Python 3",
   "language": "python",
   "name": "python3"
  },
  "language_info": {
   "codemirror_mode": {
    "name": "ipython",
    "version": 3
   },
   "file_extension": ".py",
   "mimetype": "text/x-python",
   "name": "python",
   "nbconvert_exporter": "python",
   "pygments_lexer": "ipython3",
   "version": "3.12.3"
  }
 },
 "nbformat": 4,
 "nbformat_minor": 2
}
