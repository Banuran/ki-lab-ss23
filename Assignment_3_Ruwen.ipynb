{
 "cells": [
  {
   "cell_type": "markdown",
   "id": "4c9eb2cb-a3e1-44b7-a906-2bc26022b47e",
   "metadata": {},
   "source": [
    "# Assignment 3"
   ]
  },
  {
   "cell_type": "code",
   "execution_count": 1,
   "id": "5208d010-f8cc-4cc0-ae2c-38fbb599580a",
   "metadata": {},
   "outputs": [],
   "source": [
    "import torch\n",
    "import torchvision\n",
    "import torchvision.transforms as transforms\n",
    "import matplotlib.pyplot as plt\n",
    "import numpy as np\n",
    "import torch.nn as nn\n",
    "import torch.nn.functional as F\n",
    "import torch.optim as optim\n",
    "import time\n",
    "import os\n",
    "import datetime\n",
    "from torch.utils.tensorboard import SummaryWriter\n",
    "from tensorboard import notebook"
   ]
  },
  {
   "cell_type": "markdown",
   "id": "879dff24-a394-4428-8dca-50d4e379fa76",
   "metadata": {},
   "source": [
    "### Load Data"
   ]
  },
  {
   "cell_type": "code",
   "execution_count": 2,
   "id": "f75d8c04-6e83-46b7-80c9-0270ad14ba5d",
   "metadata": {},
   "outputs": [
    {
     "name": "stdout",
     "output_type": "stream",
     "text": [
      "Files already downloaded and verified\n",
      "Files already downloaded and verified\n"
     ]
    }
   ],
   "source": [
    "transform = transforms.Compose(\n",
    "    [transforms.ToTensor(),\n",
    "     transforms.Normalize((0.5, 0.5, 0.5), (0.5, 0.5, 0.5))])\n",
    "\n",
    "batch_size = 4\n",
    "\n",
    "device = 'cpu'\n",
    "\n",
    "trainset = torchvision.datasets.CIFAR10(root='./data', train=True,\n",
    "                                        download=True, transform=transform)\n",
    "trainloader = torch.utils.data.DataLoader(trainset, batch_size=batch_size,\n",
    "                                          shuffle=True, num_workers=2)\n",
    "\n",
    "testset = torchvision.datasets.CIFAR10(root='./data', train=False,\n",
    "                                       download=True, transform=transform)\n",
    "testloader = torch.utils.data.DataLoader(testset, batch_size=batch_size,\n",
    "                                         shuffle=False, num_workers=2)\n",
    "\n",
    "classes = ('plane', 'car', 'bird', 'cat',\n",
    "       'deer', 'dog', 'frog', 'horse', 'ship', 'truck')"
   ]
  },
  {
   "cell_type": "code",
   "execution_count": 3,
   "id": "784e28eb-6827-4f1b-bb89-921e2a66a67a",
   "metadata": {},
   "outputs": [
    {
     "data": {
      "image/png": "[encoded data removed]",
      "text/plain": [
       "<Figure size 640x480 with 1 Axes>"
      ]
     },
     "metadata": {},
     "output_type": "display_data"
    },
    {
     "name": "stdout",
     "output_type": "stream",
     "text": [
      "ship  deer  bird  car  \n"
     ]
    }
   ],
   "source": [
    "def imshow(img):\n",
    "    img = img / 2 + 0.5     # unnormalize\n",
    "    npimg = img.numpy()\n",
    "    plt.imshow(np.transpose(npimg, (1, 2, 0)))\n",
    "    plt.show()\n",
    "\n",
    "\n",
    "# get some random training images\n",
    "dataiter = iter(trainloader)\n",
    "images, labels = next(dataiter)\n",
    "\n",
    "# show images\n",
    "imshow(torchvision.utils.make_grid(images))\n",
    "# print labels\n",
    "print(' '.join(f'{classes[labels[j]]:5s}' for j in range(batch_size)))"
   ]
  },
  {
   "cell_type": "markdown",
   "id": "da11e8cf-2898-4f15-b06d-2d471ec86468",
   "metadata": {},
   "source": [
    "### Setup Tensorboard and Network"
   ]
  },
  {
   "cell_type": "code",
   "execution_count": 4,
   "id": "9bccb988-f051-4203-a935-41ab803e5627",
   "metadata": {},
   "outputs": [],
   "source": [
    "logdir = os.path.join(\"logs\", datetime.datetime.now().strftime(\"%Y%m%d-%H%M%S\") + \"_\" + \"cpu\")\n",
    "\n",
    "writer = SummaryWriter(logdir)\n",
    "writer.add_image('four images', torchvision.utils.make_grid(images))"
   ]
  },
  {
   "cell_type": "code",
   "execution_count": 5,
   "id": "52106ba8-2f41-4b0c-8519-12ee359c4e48",
   "metadata": {},
   "outputs": [],
   "source": [
    "class Net(nn.Module):\n",
    "    def __init__(self):\n",
    "        super().__init__()\n",
    "        self.conv1 = nn.Conv2d(3, 8, 3)\n",
    "        self.conv2 = nn.Conv2d(8, 16, 3)\n",
    "        self.pool = nn.MaxPool2d(2, 2)\n",
    "        self.conv3 = nn.Conv2d(16, 32, 3)\n",
    "        self.conv4 = nn.Conv2d(32, 64, 3)\n",
    "        self.pool2 = nn.MaxPool2d(2, 2)\n",
    "        self.fc1 = nn.Linear(64 * 5 * 5, 4096)\n",
    "        self.fc2 = nn.Linear(4096, 1000)\n",
    "        self.fc3 = nn.Linear(1000, 10)\n",
    "\n",
    "    def forward(self, x):\n",
    "        x = F.relu(self.conv1(x))\n",
    "        x = F.relu(self.conv2(x))\n",
    "        x = self.pool(x)\n",
    "        x = F.relu(self.conv3(x))\n",
    "        x = F.relu(self.conv4(x))\n",
    "        x = self.pool2(x)\n",
    "        #x = x.view(-1, 64 * 3 * 3)\n",
    "        x = torch.flatten(x, 1) # flatten all dimensions except batch\n",
    "        x = F.relu(self.fc1(x))\n",
    "        x = F.relu(self.fc2(x))\n",
    "        x = self.fc3(x)\n",
    "        return x\n",
    "\n",
    "\n",
    "net = Net()"
   ]
  },
  {
   "cell_type": "code",
   "execution_count": 6,
   "id": "f2213360-5c4f-4b7e-9991-7fd3ee281be9",
   "metadata": {},
   "outputs": [],
   "source": [
    "writer.add_graph(net, images)\n",
    "#writer.close()"
   ]
  },
  {
   "cell_type": "code",
   "execution_count": 7,
   "id": "74161392-6dad-4ca6-8171-5fc2ea8e519e",
   "metadata": {},
   "outputs": [],
   "source": [
    "criterion = nn.CrossEntropyLoss()\n",
    "optimizer = optim.SGD(net.parameters(), lr=0.001, momentum=0.9)"
   ]
  },
  {
   "cell_type": "code",
   "execution_count": 45,
   "id": "13a02762-b72e-49f0-86f7-7ddff6aedd97",
   "metadata": {},
   "outputs": [],
   "source": [
    "# helper functions\n",
    "\n",
    "# helper function to show an image\n",
    "# (used in the `plot_classes_preds` function below)\n",
    "def matplotlib_imshow(img, one_channel=False):\n",
    "    if one_channel:\n",
    "        img = img.mean(dim=0)\n",
    "    img = img / 2 + 0.5     # unnormalize\n",
    "    npimg = img.cpu().numpy()\n",
    "    if one_channel:\n",
    "        plt.imshow(npimg, cmap=\"Greys\")\n",
    "    else:\n",
    "        plt.imshow(np.transpose(npimg, (1, 2, 0)))\n",
    "\n",
    "def images_to_probs(net, images):\n",
    "    '''\n",
    "    Generates predictions and corresponding probabilities from a trained\n",
    "    network and a list of images\n",
    "    '''\n",
    "    output = net(images)\n",
    "    # convert output probabilities to predicted class\n",
    "    _, preds_tensor = torch.max(output, 1)\n",
    "    preds = np.squeeze(preds_tensor.cpu().numpy())\n",
    "    return preds, [F.softmax(el, dim=0)[i].item() for i, el in zip(preds, output)]\n",
    "\n",
    "\n",
    "def plot_classes_preds(net, images, labels):\n",
    "    '''\n",
    "    Generates matplotlib Figure using a trained network, along with images\n",
    "    and labels from a batch, that shows the network's top prediction along\n",
    "    with its probability, alongside the actual label, coloring this\n",
    "    information based on whether the prediction was correct or not.\n",
    "    Uses the \"images_to_probs\" function.\n",
    "    '''\n",
    "    preds, probs = images_to_probs(net, images)\n",
    "    # plot the images in the batch, along with predicted and true labels\n",
    "    fig = plt.figure(figsize=(12, 4))\n",
    "    for idx in np.arange(4):\n",
    "        ax = fig.add_subplot(1, 4, idx+1, xticks=[], yticks=[])\n",
    "        matplotlib_imshow(images[idx], one_channel=False)\n",
    "        ax.set_title(\"{0}, {1:.1f}%\\n(label: {2})\".format(\n",
    "            classes[preds[idx]],\n",
    "            probs[idx] * 100.0,\n",
    "            classes[labels[idx]]),\n",
    "                    color=(\"green\" if preds[idx]==labels[idx].item() else \"red\"))\n",
    "    return fig"
   ]
  },
  {
   "cell_type": "code",
   "execution_count": 9,
   "id": "14737ee1-52b4-4cb8-9d38-1fabe6013a72",
   "metadata": {},
   "outputs": [],
   "source": [
    "def train(epoch):\n",
    "    logdir = os.path.join(\"logs\", datetime.datetime.now().strftime(\"%Y%m%d-%H:%M:%S\") + \"_\" + str(device))\n",
    "    \n",
    "    for epoch in range(epoch):  # loop over the dataset multiple times\n",
    "    \n",
    "        running_loss = 0.0\n",
    "        for i, data in enumerate(trainloader, 0):\n",
    "            # get the inputs; data is a list of [inputs, labels]\n",
    "            inputs, labels = data[0].to(device), data[1].to(device)\n",
    "        \n",
    "            # zero the parameter gradients\n",
    "            optimizer.zero_grad()\n",
    "        \n",
    "            # forward + backward + optimize\n",
    "            outputs = net(inputs)\n",
    "            loss = criterion(outputs, labels)\n",
    "            loss.backward()\n",
    "            optimizer.step()\n",
    "        \n",
    "            # print statistics\n",
    "            running_loss += loss.item()\n",
    "            if i % 2000 == 1999:    # print every 2000 mini-batches\n",
    "                print(f'[{epoch + 1}, {i + 1:5d}] loss: {running_loss / 2000:.3f}')\n",
    "                # ...log the running loss\n",
    "                writer.add_scalar('training loss',\n",
    "                            running_loss / 1000,\n",
    "                            epoch * len(trainloader) + i)\n",
    "    \n",
    "                # ...log a Matplotlib Figure showing the model's predictions on a\n",
    "                # random mini-batch\n",
    "                writer.add_figure('predictions vs. actuals',\n",
    "                            plot_classes_preds(net, inputs, labels),\n",
    "                            global_step=epoch * len(trainloader) + i)\n",
    "                running_loss = 0.0\n",
    "    \n",
    "    print('Finished Training')"
   ]
  },
  {
   "cell_type": "markdown",
   "id": "a6604c5e-fdc1-4b54-9c54-0687b8522829",
   "metadata": {},
   "source": [
    "### Run and test net on CPU"
   ]
  },
  {
   "cell_type": "code",
   "execution_count": 10,
   "id": "d65df0b2-7bd9-42f8-8c10-881e4dab42b0",
   "metadata": {},
   "outputs": [
    {
     "name": "stdout",
     "output_type": "stream",
     "text": [
      "[1,  2000] loss: 2.282\n",
      "[1,  4000] loss: 2.066\n",
      "[1,  6000] loss: 1.830\n",
      "[1,  8000] loss: 1.647\n",
      "[1, 10000] loss: 1.555\n",
      "[1, 12000] loss: 1.485\n",
      "[2,  2000] loss: 1.390\n",
      "[2,  4000] loss: 1.325\n",
      "[2,  6000] loss: 1.320\n",
      "[2,  8000] loss: 1.262\n",
      "[2, 10000] loss: 1.225\n",
      "[2, 12000] loss: 1.173\n",
      "Finished Training\n"
     ]
    }
   ],
   "source": [
    "cpu_t_start = time.time()\n",
    "train(2)\n",
    "cpu_t_end = time.time()\n",
    "\n",
    "writer.close()"
   ]
  },
  {
   "cell_type": "code",
   "execution_count": 11,
   "id": "c3c543b8-d352-4d96-b2dd-0c1166bfdce5",
   "metadata": {},
   "outputs": [
    {
     "data": {
      "image/png": "[encoded data removed]",
      "text/plain": [
       "<Figure size 640x480 with 1 Axes>"
      ]
     },
     "metadata": {},
     "output_type": "display_data"
    },
    {
     "name": "stdout",
     "output_type": "stream",
     "text": [
      "GroundTruth:  cat   ship  ship  plane\n"
     ]
    }
   ],
   "source": [
    "dataiter = iter(testloader)\n",
    "images, labels = next(dataiter)\n",
    "\n",
    "# print images\n",
    "imshow(torchvision.utils.make_grid(images))\n",
    "print('GroundTruth: ', ' '.join(f'{classes[labels[j]]:5s}' for j in range(4)))"
   ]
  },
  {
   "cell_type": "code",
   "execution_count": 12,
   "id": "baa8c6d1-65ff-4f57-81af-26ea04fb9315",
   "metadata": {},
   "outputs": [],
   "source": [
    "outputs = net(images)"
   ]
  },
  {
   "cell_type": "code",
   "execution_count": 13,
   "id": "14d8dc9c-ee54-4ca2-97b7-d199b2af83ac",
   "metadata": {},
   "outputs": [
    {
     "name": "stdout",
     "output_type": "stream",
     "text": [
      "Predicted:  cat   car   truck car  \n"
     ]
    }
   ],
   "source": [
    "_, predicted = torch.max(outputs, 1)\n",
    "\n",
    "print('Predicted: ', ' '.join(f'{classes[predicted[j]]:5s}'\n",
    "                          for j in range(4)))"
   ]
  },
  {
   "cell_type": "code",
   "execution_count": 14,
   "id": "9a445f2e-244f-4177-9835-b0d6167f55cf",
   "metadata": {},
   "outputs": [],
   "source": [
    "def test(topk=False):\n",
    "    correct = 0\n",
    "    total = 0\n",
    "    # since we're not training, we don't need to calculate the gradients for our outputs\n",
    "    with torch.no_grad():\n",
    "        for data in testloader:\n",
    "            images, labels = data[0].to(device), data[1].to(device)\n",
    "            # calculate outputs by running images through the network\n",
    "            outputs = net(images)\n",
    "            if topk:\n",
    "                _, predicted = torch.topk(outputs.data, 3)\n",
    "                correct += predicted.eq(labels.view(-1,1).expand_as(predicted)).sum().item()\n",
    "            else:    \n",
    "                # the class with the highest energy is what we choose as prediction\n",
    "                _, predicted = torch.max(outputs.data, 1)\n",
    "                correct += (predicted == labels).sum().item()\n",
    "            \n",
    "            total += labels.size(0)\n",
    "            \n",
    "            #print(correct)\n",
    "    \n",
    "    print(f'Accuracy of the network on the 10000 test images: {100 * correct // total} %')"
   ]
  },
  {
   "cell_type": "markdown",
   "id": "3ef23f45-461a-4e26-833e-e4b127da1e8d",
   "metadata": {},
   "source": [
    "Testing with highest output of net"
   ]
  },
  {
   "cell_type": "code",
   "execution_count": 15,
   "id": "89530f9b-3bf9-48b0-8afb-35481c32b267",
   "metadata": {},
   "outputs": [
    {
     "name": "stdout",
     "output_type": "stream",
     "text": [
      "Accuracy of the network on the 10000 test images: 60 %\n"
     ]
    }
   ],
   "source": [
    "test()"
   ]
  },
  {
   "cell_type": "markdown",
   "id": "a29ccf53-f765-43fc-bbd5-1a9f689510b8",
   "metadata": {},
   "source": [
    "Testing with top 3 outputs of net"
   ]
  },
  {
   "cell_type": "code",
   "execution_count": 16,
   "id": "0304e12a-1e09-4795-95b0-098ac6a68cdb",
   "metadata": {},
   "outputs": [
    {
     "name": "stdout",
     "output_type": "stream",
     "text": [
      "Accuracy of the network on the 10000 test images: 87 %\n"
     ]
    }
   ],
   "source": [
    "test(topk=True)"
   ]
  },
  {
   "cell_type": "code",
   "execution_count": 17,
   "id": "10fd23c7-7fe0-4221-a18a-042f9c981808",
   "metadata": {},
   "outputs": [],
   "source": [
    "def category_test():\n",
    "    # prepare to count predictions for each class\n",
    "    correct_pred = {classname: 0 for classname in classes}\n",
    "    total_pred = {classname: 0 for classname in classes}\n",
    "    \n",
    "    # again no gradients needed\n",
    "    with torch.no_grad():\n",
    "        for data in testloader:\n",
    "            images, labels = data\n",
    "            outputs = net(images)\n",
    "            _, predictions = torch.max(outputs, 1)\n",
    "            # collect the correct predictions for each class\n",
    "            for label, prediction in zip(labels, predictions):\n",
    "                if label == prediction:\n",
    "                    correct_pred[classes[label]] += 1\n",
    "                total_pred[classes[label]] += 1\n",
    "    \n",
    "    \n",
    "    # print accuracy for each class\n",
    "    for classname, correct_count in correct_pred.items():\n",
    "        accuracy = 100 * float(correct_count) / total_pred[classname]\n",
    "        print(f'Accuracy for class: {classname:5s} is {accuracy:.1f} %')"
   ]
  },
  {
   "cell_type": "code",
   "execution_count": 18,
   "id": "70018475-aeaa-468e-8083-f7a946a5c83f",
   "metadata": {},
   "outputs": [
    {
     "name": "stdout",
     "output_type": "stream",
     "text": [
      "Accuracy for class: plane is 61.1 %\n",
      "Accuracy for class: car   is 77.7 %\n",
      "Accuracy for class: bird  is 37.4 %\n",
      "Accuracy for class: cat   is 45.7 %\n",
      "Accuracy for class: deer  is 49.0 %\n",
      "Accuracy for class: dog   is 59.0 %\n",
      "Accuracy for class: frog  is 60.0 %\n",
      "Accuracy for class: horse is 68.9 %\n",
      "Accuracy for class: ship  is 69.5 %\n",
      "Accuracy for class: truck is 74.9 %\n"
     ]
    }
   ],
   "source": [
    "category_test()"
   ]
  },
  {
   "cell_type": "code",
   "execution_count": 19,
   "id": "a7aff024-db84-494f-95df-8d47bde9d17e",
   "metadata": {},
   "outputs": [
    {
     "name": "stdout",
     "output_type": "stream",
     "text": [
      "cuda:0\n"
     ]
    }
   ],
   "source": [
    "writer = SummaryWriter(logdir)\n",
    "\n",
    "device = torch.device('cuda:0' if torch.cuda.is_available() else 'cpu')\n",
    "print(device)"
   ]
  },
  {
   "cell_type": "code",
   "execution_count": 20,
   "id": "0ae46d3d-ca4b-4cd1-a3b3-4357122f85f8",
   "metadata": {},
   "outputs": [
    {
     "data": {
      "text/plain": [
       "Net(\n",
       "  (conv1): Conv2d(3, 8, kernel_size=(3, 3), stride=(1, 1))\n",
       "  (conv2): Conv2d(8, 16, kernel_size=(3, 3), stride=(1, 1))\n",
       "  (pool): MaxPool2d(kernel_size=2, stride=2, padding=0, dilation=1, ceil_mode=False)\n",
       "  (conv3): Conv2d(16, 32, kernel_size=(3, 3), stride=(1, 1))\n",
       "  (conv4): Conv2d(32, 64, kernel_size=(3, 3), stride=(1, 1))\n",
       "  (pool2): MaxPool2d(kernel_size=2, stride=2, padding=0, dilation=1, ceil_mode=False)\n",
       "  (fc1): Linear(in_features=1600, out_features=4096, bias=True)\n",
       "  (fc2): Linear(in_features=4096, out_features=1000, bias=True)\n",
       "  (fc3): Linear(in_features=1000, out_features=10, bias=True)\n",
       ")"
      ]
     },
     "execution_count": 20,
     "metadata": {},
     "output_type": "execute_result"
    }
   ],
   "source": [
    "net.to(device)"
   ]
  },
  {
   "cell_type": "code",
   "execution_count": 25,
   "id": "19854e6d-54dc-4daf-be8c-7dbaa3515d85",
   "metadata": {},
   "outputs": [
    {
     "name": "stdout",
     "output_type": "stream",
     "text": [
      "[1,  2000] loss: 0.958\n",
      "[1,  4000] loss: 0.949\n",
      "[1,  6000] loss: 0.941\n",
      "[1,  8000] loss: 0.943\n",
      "[1, 10000] loss: 0.914\n",
      "[1, 12000] loss: 0.890\n",
      "[2,  2000] loss: 0.699\n",
      "[2,  4000] loss: 0.713\n",
      "[2,  6000] loss: 0.700\n",
      "[2,  8000] loss: 0.721\n",
      "[2, 10000] loss: 0.735\n",
      "[2, 12000] loss: 0.735\n",
      "Finished Training\n"
     ]
    }
   ],
   "source": [
    "optimizer = optim.SGD(net.parameters(), lr=0.001, momentum=0.9)\n",
    "\n",
    "gpu_t_start = time.time() \n",
    "train(2)\n",
    "gpu_t_end = time.time()"
   ]
  },
  {
   "cell_type": "markdown",
   "id": "7b8b19e4-b8eb-415f-9d45-cacc1fe8b800",
   "metadata": {},
   "source": [
    "Testing with highest output of net"
   ]
  },
  {
   "cell_type": "code",
   "execution_count": 26,
   "id": "c0a2144e-c3e3-41e1-9341-3b014ca0c410",
   "metadata": {},
   "outputs": [
    {
     "name": "stdout",
     "output_type": "stream",
     "text": [
      "Accuracy of the network on the 10000 test images: 68 %\n"
     ]
    }
   ],
   "source": [
    "test()"
   ]
  },
  {
   "cell_type": "markdown",
   "id": "267c6173-3501-4ee3-98bc-30fa1ff63aef",
   "metadata": {},
   "source": [
    "Testing with top 3 outputs of net"
   ]
  },
  {
   "cell_type": "code",
   "execution_count": 27,
   "id": "e96f5dfb-17f7-423e-bacd-06fcd1d71199",
   "metadata": {},
   "outputs": [
    {
     "name": "stdout",
     "output_type": "stream",
     "text": [
      "Accuracy of the network on the 10000 test images: 91 %\n"
     ]
    }
   ],
   "source": [
    "test(topk=True)"
   ]
  },
  {
   "cell_type": "code",
   "execution_count": 28,
   "id": "ce41d5f3-cc16-4f19-af6e-cc8a294cd7bd",
   "metadata": {},
   "outputs": [
    {
     "name": "stdout",
     "output_type": "stream",
     "text": [
      "Time CPU: 906.8604490756989\n",
      "Time GPU: 976.6331629753113\n"
     ]
    }
   ],
   "source": [
    "print(\"Time CPU: \" + str(cpu_t_end - cpu_t_start))\n",
    "print(\"Time GPU: \" + str(gpu_t_end - gpu_t_start))"
   ]
  },
  {
   "cell_type": "markdown",
   "id": "8c0e8183-2b15-4fa7-a9e2-87d24e96c80f",
   "metadata": {},
   "source": [
    "### Show five wrong classified images"
   ]
  },
  {
   "cell_type": "code",
   "execution_count": 42,
   "id": "444091b7-ce48-4e6b-bdfe-99591695753d",
   "metadata": {},
   "outputs": [],
   "source": [
    "def wrong_class_graph():\n",
    "    number_of_false = 0\n",
    "    wrong_imgs = []\n",
    "    wrong_pred = []\n",
    "    label = []\n",
    "    \n",
    "    # since we're not training, we don't need to calculate the gradients for our outputs\n",
    "    with torch.no_grad():\n",
    "        for data in testloader:\n",
    "            images, labels = data[0].to(device), data[1].to(device)\n",
    "            # calculate outputs by running images through the network\n",
    "            outputs = net(images)\n",
    "            \n",
    "            _, predicted = torch.topk(outputs.data, 3)\n",
    "            \n",
    "            correct = predicted.eq(labels.view(-1,1).expand_as(predicted))\n",
    "            wrong_idx = (correct.sum(dim=1) == 0).nonzero(as_tuple=False).tolist()\n",
    "\n",
    "            #print(wrong_idx)\n",
    "            number_of_false += len(wrong_idx)\n",
    "            for e in wrong_idx:\n",
    "                wrong_imgs.append(images[e[0]])\n",
    "                label.append(labels[e[0]])\n",
    "                wrong_pred.append([predicted[e[0]][0].item(), predicted[e[0]][1].item(), predicted[e[0]][2].item()])\n",
    "\n",
    "            if number_of_false >= 5:\n",
    "                break\n",
    "\n",
    "    fig = plt.figure(figsize=(12, 4))\n",
    "    for idx in np.arange(5):\n",
    "        ax = fig.add_subplot(1, 5, idx+1, xticks=[], yticks=[])\n",
    "        matplotlib_imshow(wrong_imgs[idx].cpu(), one_channel=False)\n",
    "        ax.set_title(\"{0}, \\n(label: {1}\\n{2}\\n{3})\".format(\n",
    "            classes[label[idx]],\n",
    "            classes[wrong_pred[idx][0]],\n",
    "            classes[wrong_pred[idx][1]],\n",
    "            classes[wrong_pred[idx][2]]))\n",
    "    \n",
    "    return fig"
   ]
  },
  {
   "cell_type": "code",
   "execution_count": 43,
   "id": "681af33b-5fe2-4662-86d5-3226cac36702",
   "metadata": {},
   "outputs": [],
   "source": [
    "writer.add_figure('five wrong predictions', wrong_class_graph())\n",
    "writer.close()"
   ]
  },
  {
   "cell_type": "markdown",
   "id": "8f76f7f7-878d-47df-8a7f-8ce7aa9e1570",
   "metadata": {},
   "source": [
    "### Display Notebook"
   ]
  },
  {
   "cell_type": "code",
   "execution_count": 44,
   "id": "13ff47e9-09de-4504-9b8d-7270b2d479d2",
   "metadata": {},
   "outputs": [
    {
     "name": "stdout",
     "output_type": "stream",
     "text": [
      "The tensorboard extension is already loaded. To reload it, use:\n",
      "  %reload_ext tensorboard\n"
     ]
    },
    {
     "data": {
      "text/plain": [
       "Reusing TensorBoard on port 6006 (pid 221987), started 0:02:24 ago. (Use '!kill 221987' to kill it.)"
      ]
     },
     "metadata": {},
     "output_type": "display_data"
    },
    {
     "data": {
      "text/html": [
       "\n",
       "      <iframe id=\"tensorboard-frame-3f93fd9c4c343f3a\" width=\"100%\" height=\"800\" frameborder=\"0\">\n",
       "      </iframe>\n",
       "      <script>\n",
       "        (function() {\n",
       "          const frame = document.getElementById(\"tensorboard-frame-3f93fd9c4c343f3a\");\n",
       "          const url = new URL(\"/\", window.location);\n",
       "          const port = 6006;\n",
       "          if (port) {\n",
       "            url.port = port;\n",
       "          }\n",
       "          frame.src = url;\n",
       "        })();\n",
       "      </script>\n",
       "    "
      ],
      "text/plain": [
       "<IPython.core.display.HTML object>"
      ]
     },
     "metadata": {},
     "output_type": "display_data"
    }
   ],
   "source": [
    "%load_ext tensorboard\n",
    "%tensorboard --logdir logs"
   ]
  },
  {
   "cell_type": "code",
   "execution_count": 41,
   "id": "8277ee17-05f4-41b1-b22c-279845a0880d",
   "metadata": {},
   "outputs": [
    {
     "name": "stdout",
     "output_type": "stream",
     "text": [
      "Selecting TensorBoard with logdir logs (started 0:01:55 ago; port 6006, pid 221987).\n"
     ]
    },
    {
     "data": {
      "text/html": [
       "\n",
       "      <iframe id=\"tensorboard-frame-fccb316622461b2b\" width=\"100%\" height=\"1000\" frameborder=\"0\">\n",
       "      </iframe>\n",
       "      <script>\n",
       "        (function() {\n",
       "          const frame = document.getElementById(\"tensorboard-frame-fccb316622461b2b\");\n",
       "          const url = new URL(\"/\", window.location);\n",
       "          const port = 6006;\n",
       "          if (port) {\n",
       "            url.port = port;\n",
       "          }\n",
       "          frame.src = url;\n",
       "        })();\n",
       "      </script>\n",
       "    "
      ],
      "text/plain": [
       "<IPython.core.display.HTML object>"
      ]
     },
     "metadata": {},
     "output_type": "display_data"
    }
   ],
   "source": [
    "notebook.display(port=6006, height=1000)"
   ]
  },
  {
   "cell_type": "code",
   "execution_count": null,
   "id": "6b68ce57-a8ef-46f4-a596-74639c8d8042",
   "metadata": {},
   "outputs": [],
   "source": []
  }
 ],
 "metadata": {
  "kernelspec": {
   "display_name": "Python 3 (ipykernel)",
   "language": "python",
   "name": "python3"
  },
  "language_info": {
   "codemirror_mode": {
    "name": "ipython",
    "version": 3
   },
   "file_extension": ".py",
   "mimetype": "text/x-python",
   "name": "python",
   "nbconvert_exporter": "python",
   "pygments_lexer": "ipython3",
   "version": "3.12.2"
  }
 },
 "nbformat": 4,
 "nbformat_minor": 5
}
